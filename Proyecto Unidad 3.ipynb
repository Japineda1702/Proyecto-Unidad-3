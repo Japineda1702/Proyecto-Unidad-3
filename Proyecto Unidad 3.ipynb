{
 "cells": [
  {
   "cell_type": "code",
   "execution_count": 1,
   "id": "1e75d65d",
   "metadata": {},
   "outputs": [],
   "source": [
    "#Importacion de las librerias\n",
    "import pandas as pd\n",
    "import sqlalchemy\n",
    "from sqlalchemy import create_engine\n",
    "from sqlalchemy import MetaData\n",
    "from datetime import datetime\n",
    "import psycopg2\n",
    "import pyodbc"
   ]
  },
  {
   "cell_type": "code",
   "execution_count": 62,
   "id": "b40e048e",
   "metadata": {},
   "outputs": [],
   "source": [
    "#Creacion de los data frame de la base de datos chinook\n",
    "engine = create_engine('sqlite:///Northwind_Larg.sqlite')\n",
    "df_customer = pd.read_sql_query(\"\"\"SELECT Id as Id_Customer,CompanyName, ContactName, ContactTitle, Address, City,Region,PostalCode,Country,Phone,Fax FROM Customer; \"\"\", con=engine.connect())\n",
    "df_location = pd.read_sql_query(\"\"\"SELECT ShipVia,ShipName,ShipAddress,ShipCity,ShipRegion,ShipPostalCode,ShipCountry FROM Orders; \"\"\", con=engine.connect())\n",
    "df_employees = pd.read_sql_query(\"\"\"SELECT LastName,FirstName,Title,TitleOfCourtesy,BirthDate,HireDate,Address,City,Region,PostalCode,Country,Extension,Notes,PhotoPath,t.TerritoryDescription,r.RegionDescription FROM Employee e\n",
    "    INNER JOIN\n",
    "    EmployeeTerritory et  \n",
    "    INNER JOIN\n",
    "    Territory t ON t.Id = et.TerritoryId\n",
    "    INNER JOIN\n",
    "    Region r ON r.Id = t.RegionId    \n",
    "    ; \"\"\", con=engine.connect())\n",
    "df_products = pd.read_sql_query(\"\"\"SELECT ProductName,CategoryName,Description,QuantityPerUnit as QuanntityPerUnit,UnitPrice,UnitsInStock,UnitsOnOrder,ReorderLevel,Discontinued as Discount FROM Product p\n",
    "    INNER JOIN\n",
    "    Category c ON c.Id = p.CategoryId\n",
    "    ; \"\"\", con=engine.connect())\n",
    "df_suppliers = pd.read_sql_query(\"\"\"SELECT CompanyName,ContactName,ContactTitle,Address,City,Region,PostalCode,Country,Phone,Fax FROM Customer; \"\"\", con=engine.connect())\n",
    " \n",
    "df_so = pd.read_sql_query(\"\"\"SELECT OrderDetail.UnitPrice,OrderDetail.Quantity,OrderDetail.Discount,Orders.Freight,Customer.Id as Id_Customer,Employee.Id as Id_Employee,Orders.Id as Id_Location,Supplier.Id as Id_Supplier,Product.Id as Id_Product,TimeId as Id_Time \n",
    "    FROM Orders\n",
    "    INNER JOIN\n",
    "    OrderDetail ON OrderDetail.OrderId = Orders.Id\n",
    "    INNER JOIN\n",
    "    Customer ON Customer.Id = Orders.CustomerId\n",
    "    INNER JOIN\n",
    "    Employee ON Employee.Id = Orders.EmployeeId\n",
    "    INNER JOIN\n",
    "    Product ON Product.Id = OrderDetail.ProductId\n",
    "    INNER JOIN\n",
    "    Supplier ON Supplier.Id = Product.SupplierId \n",
    "    INNER JOIN \n",
    "    Dim_Time ON Orders.OrderDate= substr(Dim_Time.date,0,11)\n",
    "    ; \"\"\", con=engine.connect())"
   ]
  },
  {
   "cell_type": "code",
   "execution_count": 55,
   "id": "42776493",
   "metadata": {},
   "outputs": [
    {
     "name": "stderr",
     "output_type": "stream",
     "text": [
      "C:\\Users\\pined\\AppData\\Local\\Temp/ipykernel_20572/1429112024.py:10: FutureWarning: Series.dt.weekofyear and Series.dt.week have been deprecated. Please use Series.dt.isocalendar().week instead.\n",
      "  df_date['semana'] = df_date.date.dt.weekofyear\n"
     ]
    },
    {
     "data": {
      "text/plain": [
       "8035"
      ]
     },
     "execution_count": 55,
     "metadata": {},
     "output_type": "execute_result"
    }
   ],
   "source": [
    "#Creacion del data frame de fecha\n",
    "fecha_I='2009-01-01'\n",
    "fecha_F='2030-12-31'\n",
    "df_date = pd.DataFrame({'date': pd.date_range(fecha_I, fecha_F)})\n",
    "df_date['año'] = df_date.date.dt.year\n",
    "df_date['mes'] = df_date.date.dt.month\n",
    "df_date['dia'] = df_date.date.dt.day\n",
    "df_date['nombre_dia'] = df_date.date.dt.day_name()\n",
    "df_date['dia_semana'] = df_date.date.dt.dayofweek\n",
    "df_date['semana'] = df_date.date.dt.weekofyear\n",
    "df_date['trimestre'] = df_date.date.dt.quarter\n",
    "df_date = df_date[['date', 'año', 'mes', 'dia', 'nombre_dia', 'dia_semana', 'semana', 'trimestre']]\n",
    "df_date.to_sql(name='Dim_Time', con=engine.connect(), if_exists='append',index=False)"
   ]
  },
  {
   "cell_type": "code",
   "execution_count": 59,
   "id": "fb9eda0c",
   "metadata": {},
   "outputs": [],
   "source": [
    "#Conexion con SQL\n",
    "conn = sqlalchemy.create_engine('mssql+pyodbc://localhost/Estrella?driver=SQL+Server+Native+Client+11.0')"
   ]
  },
  {
   "cell_type": "code",
   "execution_count": 63,
   "id": "5eef0171",
   "metadata": {},
   "outputs": [],
   "source": [
    "#Limpieza de los datos\n",
    "df_location.fillna(method=\"bfill\", inplace = True)\n",
    "df_employees.fillna(method=\"bfill\", inplace = True)\n",
    "df_customer.fillna(method=\"bfill\", inplace = True)\n",
    "df_products.fillna(method=\"bfill\", inplace = True)\n",
    "df_suppliers.fillna(method=\"bfill\", inplace = True)\n",
    "df_location.fillna(method=\"ffill\", inplace = True)\n",
    "df_employees.fillna(method=\"ffill\", inplace = True)\n",
    "df_customer.fillna(method=\"ffill\", inplace = True)\n",
    "df_products.fillna(method=\"ffill\", inplace = True)\n",
    "df_suppliers.fillna(method=\"ffill\", inplace = True)"
   ]
  },
  {
   "cell_type": "code",
   "execution_count": 7,
   "id": "6f3ff2b6",
   "metadata": {},
   "outputs": [
    {
     "data": {
      "text/plain": [
       "-1"
      ]
     },
     "execution_count": 7,
     "metadata": {},
     "output_type": "execute_result"
    }
   ],
   "source": [
    "#Carga de los datos en SQL\n",
    "df_customer.to_sql(name='Dim_Customer', con=conn, if_exists='append',index=False)\n",
    "df_location.to_sql(name='Dim_Location', con=conn, if_exists='append',index=False)\n",
    "df_employees.to_sql(name='Dim_Employees', con=conn, if_exists='append',index=False)\n",
    "df_products.to_sql(name='Dim_Products', con=conn, if_exists='append',index=False)\n",
    "df_suppliers.to_sql(name='Dim_Suppliers', con=conn, if_exists='append',index=False)\n",
    "df_date.to_sql(name='Dim_Time', con=conn, if_exists='append',index=False)\n",
    "df_so.to_sql(name='Sales_Order', con=conn, if_exists='append',index=False)"
   ]
  }
 ],
 "metadata": {
  "kernelspec": {
   "display_name": "Python 3 (ipykernel)",
   "language": "python",
   "name": "python3"
  },
  "language_info": {
   "codemirror_mode": {
    "name": "ipython",
    "version": 3
   },
   "file_extension": ".py",
   "mimetype": "text/x-python",
   "name": "python",
   "nbconvert_exporter": "python",
   "pygments_lexer": "ipython3",
   "version": "3.9.7"
  }
 },
 "nbformat": 4,
 "nbformat_minor": 5
}
